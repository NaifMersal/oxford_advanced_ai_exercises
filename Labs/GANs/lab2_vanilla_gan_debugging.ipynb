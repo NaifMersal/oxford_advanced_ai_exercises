{
  "cells": [
    {
      "cell_type": "markdown",
      "metadata": {
        "id": "j1vjb7UXNu4o"
      },
      "source": [
        "# Lab 2: Debug a Broken Vanilla GAN (find 12+ issues)"
      ],
      "id": "j1vjb7UXNu4o"
    },
    {
      "cell_type": "code",
      "source": [
        "import torch, torchvision, torch.nn as nn\n",
        "from torch.utils.data import DataLoader\n",
        "from torchvision import transforms"
      ],
      "metadata": {
        "id": "27XdpptqOOAW"
      },
      "id": "27XdpptqOOAW",
      "execution_count": 1,
      "outputs": []
    },
    {
      "cell_type": "code",
      "source": [
        "device=torch.device('cuda' if torch.cuda.is_available() else 'cpu')\n",
        "transform=transforms.Compose([transforms.ToTensor(), transforms.Normalize(0.1307, 0.3081)])   # BUG normalize\n",
        "loader=DataLoader(torchvision.datasets.MNIST('./data',True,download=True,transform=transform),batch_size=256,shuffle=True,num_workers=2,pin_memory=True)"
      ],
      "metadata": {
        "colab": {
          "base_uri": "https://localhost:8080/"
        },
        "id": "ndF_IVcdOTNK",
        "outputId": "c759e835-b069-4417-f1ac-95ce0c69385f"
      },
      "id": "ndF_IVcdOTNK",
      "execution_count": 2,
      "outputs": [
        {
          "output_type": "stream",
          "name": "stderr",
          "text": [
            "100%|██████████| 9.91M/9.91M [00:00<00:00, 54.7MB/s]\n",
            "100%|██████████| 28.9k/28.9k [00:00<00:00, 1.73MB/s]\n",
            "100%|██████████| 1.65M/1.65M [00:00<00:00, 14.6MB/s]\n",
            "100%|██████████| 4.54k/4.54k [00:00<00:00, 5.95MB/s]\n"
          ]
        }
      ]
    },
    {
      "cell_type": "code",
      "metadata": {
        "id": "bkoC2Y8uNu4p"
      },
      "execution_count": 13,
      "outputs": [],
      "source": [
        "z_dim=100; g_lr=2e-2; d_lr=2e-5\n",
        "class D(nn.Module):\n",
        "    def __init__(self):\n",
        "        super().__init__(); self.net=nn.Sequential(nn.Conv2d(1,32,4,2,1) , # 14\n",
        "                                                   nn.LeakyReLU(0.2,True),\n",
        "                                                   nn.Conv2d(32,64,4,2,1), # 7\n",
        "                                                   nn.BatchNorm2d(64),\n",
        "                                                   nn.LeakyReLU(0.2,True),\n",
        "                                                   nn.Conv2d(64,1,7,1,0),\n",
        "                                                  #  nn.AdaptiveAvgPool2d(1),\n",
        "                                                   nn.Flatten(),\n",
        "                                                   )\n",
        "    def forward(self,x):return self.net(x)\n",
        "class G(nn.Module):\n",
        "    def __init__(self):\n",
        "        super().__init__()\n",
        "        self.z_dim = 100\n",
        "        self.net = nn.Sequential(\n",
        "            nn.ConvTranspose2d(z_dim, 128, 4, 1, 0),  # (N,128,4,4)\n",
        "            nn.BatchNorm2d(128),\n",
        "            nn.ReLU(True),\n",
        "\n",
        "            nn.ConvTranspose2d(128, 64, 4, 2, 1),     # (N,64,8,8)\n",
        "            nn.BatchNorm2d(64),\n",
        "            nn.ReLU(True),\n",
        "\n",
        "            nn.ConvTranspose2d(64, 32, 4, 2, 1),      # (N,32,16,16)\n",
        "            nn.BatchNorm2d(32),\n",
        "            nn.ReLU(True),\n",
        "\n",
        "            nn.ConvTranspose2d(32, 1, 3, 2, 2),       # (N,1,28,28)\n",
        "            nn.Tanh()\n",
        "        )\n",
        "\n",
        "    def forward(self,z):\n",
        "      return self.net(z)\n",
        "Dnet=D().to(device); Gnet=G().to(device)\n",
        "crit=nn.BCEWithLogitsLoss(); opt_d=torch.optim.Adam(Dnet.parameters(),lr=d_lr,betas=(0.9,0.999)); opt_g=torch.optim.Adam(Gnet.parameters(),lr=g_lr,betas=(0.9,0.999))"
      ],
      "id": "bkoC2Y8uNu4p"
    },
    {
      "cell_type": "code",
      "metadata": {
        "colab": {
          "base_uri": "https://localhost:8080/"
        },
        "id": "kYknER_GNu4p",
        "outputId": "a8fe9574-5f2f-4625-aae3-506d1de9718d"
      },
      "execution_count": 19,
      "outputs": [
        {
          "output_type": "stream",
          "name": "stderr",
          "text": [
            "\r  0%|          | 0/235 [00:00<?, ?it/s]/usr/local/lib/python3.12/dist-packages/torch/utils/data/dataloader.py:666: UserWarning: 'pin_memory' argument is set as true but no accelerator is found, then device pinned memory won't be used.\n",
            "  warnings.warn(warn_msg)\n",
            "100%|██████████| 235/235 [03:47<00:00,  1.03it/s]"
          ]
        },
        {
          "output_type": "stream",
          "name": "stdout",
          "text": [
            "Now fix all the issues.\n"
          ]
        },
        {
          "output_type": "stream",
          "name": "stderr",
          "text": [
            "\n"
          ]
        }
      ],
      "source": [
        "from tqdm import tqdm\n",
        "for real,_ in tqdm(loader):\n",
        "    real=real.to(device); b=real.size(0)\n",
        "    z=torch.randn(b,z_dim,device=device)\n",
        "    fake=Gnet(z.view(b,z_dim,1,1))\n",
        "    loss_d=crit(Dnet(real),torch.zeros(b,1,device=device))+crit(Dnet(fake),torch.ones(b,1,device=device))  # BUG labels\n",
        "    opt_d.zero_grad();loss_d.backward(); opt_d.step()  # BUG\n",
        "    z=torch.randn(b,z_dim,device=device)\n",
        "    fake=Gnet(z.view(b,z_dim,1,1))\n",
        "    loss_g=crit(Dnet(fake),torch.zeros(b,1,device=device))  # BUG non-sat\n",
        "    opt_g.zero_grad()\n",
        "    loss_g.backward()  # BUG missing step\n",
        "    opt_g.step()\n",
        "print('Now fix all the issues.')"
      ],
      "id": "kYknER_GNu4p"
    },
    {
      "cell_type": "code",
      "source": [
        "from tqdm import tqdm\n",
        "for e in range(30):\n",
        "  for real,_ in tqdm(loader):\n",
        "      real=real.to(device); b=real.size(0)\n",
        "      z=torch.randn(b,z_dim,device=device)\n",
        "      fake=Gnet(z.view(b,z_dim,1,1))\n",
        "      loss_d=crit(Dnet(real),torch.zeros(b,1,device=device))+crit(Dnet(fake),torch.ones(b,1,device=device))  # BUG labels\n",
        "      opt_d.zero_grad();loss_d.backward(); opt_d.step()  # BUG\n",
        "      z=torch.randn(b,z_dim,device=device)\n",
        "      fake=Gnet(z.view(b,z_dim,1,1))\n",
        "      loss_g=crit(Dnet(fake),torch.zeros(b,1,device=device))  # BUG non-sat\n",
        "      opt_g.zero_grad()\n",
        "      loss_g.backward()  # BUG missing step\n",
        "      opt_g.step()"
      ],
      "metadata": {
        "colab": {
          "base_uri": "https://localhost:8080/"
        },
        "id": "Pib-PgNOkmLH",
        "outputId": "15d826eb-60a9-4283-f549-0cb2bb5beb0d"
      },
      "id": "Pib-PgNOkmLH",
      "execution_count": null,
      "outputs": [
        {
          "output_type": "stream",
          "name": "stderr",
          "text": [
            "\r  0%|          | 0/235 [00:00<?, ?it/s]/usr/local/lib/python3.12/dist-packages/torch/utils/data/dataloader.py:666: UserWarning: 'pin_memory' argument is set as true but no accelerator is found, then device pinned memory won't be used.\n",
            "  warnings.warn(warn_msg)\n",
            "100%|██████████| 235/235 [03:44<00:00,  1.05it/s]\n",
            " 49%|████▊     | 114/235 [01:48<01:52,  1.07it/s]"
          ]
        }
      ]
    },
    {
      "cell_type": "code",
      "source": [
        "import matplotlib.pyplot as plt\n",
        "\n",
        "# Generate some images\n",
        "with torch.no_grad():\n",
        "    z = torch.randn(16, z_dim, device=device)\n",
        "    fake_images = Gnet(z.view(16, z_dim, 1, 1)).cpu()\n",
        "\n",
        "# Display the images\n",
        "fig, axes = plt.subplots(4, 4, figsize=(8, 8))\n",
        "for i, ax in enumerate(axes.flat):\n",
        "    ax.imshow(fake_images[i].squeeze(), cmap='gray')\n",
        "    ax.axis('off')\n",
        "plt.tight_layout()\n",
        "plt.show()"
      ],
      "metadata": {
        "colab": {
          "base_uri": "https://localhost:8080/",
          "height": 807
        },
        "id": "e7agXQ0nbYCe",
        "outputId": "0063927a-bc70-45f7-bbab-09d36e3b7a68"
      },
      "id": "e7agXQ0nbYCe",
      "execution_count": 17,
      "outputs": [
        {
          "output_type": "display_data",
          "data": {
            "text/plain": [
              "<Figure size 800x800 with 16 Axes>"
            ],
            "image/png": "[encoded data removed]"
          },
          "metadata": {}
        }
      ]
    },
    {
      "cell_type": "code",
      "source": [],
      "metadata": {
        "id": "Vz6B5qjvjTsT"
      },
      "id": "Vz6B5qjvjTsT",
      "execution_count": null,
      "outputs": []
    }
  ],
  "metadata": {
    "kernelspec": {
      "name": "python3",
      "display_name": "Python 3",
      "language": "python"
    },
    "colab": {
      "provenance": []
    }
  },
  "nbformat": 4,
  "nbformat_minor": 5
}